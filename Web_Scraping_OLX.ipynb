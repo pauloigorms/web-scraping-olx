{
  "nbformat": 4,
  "nbformat_minor": 0,
  "metadata": {
    "colab": {
      "name": "Web-Scraping-OLX.ipynb",
      "private_outputs": true,
      "provenance": [],
      "authorship_tag": "ABX9TyO++cPpUdpWGoZjk7un2chz",
      "include_colab_link": true
    },
    "kernelspec": {
      "name": "python3",
      "display_name": "Python 3"
    }
  },
  "cells": [
    {
      "cell_type": "markdown",
      "metadata": {
        "id": "view-in-github",
        "colab_type": "text"
      },
      "source": [
        "<a href=\"https://colab.research.google.com/github/pauloigorms/web-scraping-olx/blob/main/Web_Scraping_OLX.ipynb\" target=\"_parent\"><img src=\"https://colab.research.google.com/assets/colab-badge.svg\" alt=\"Open In Colab\"/></a>"
      ]
    },
    {
      "cell_type": "markdown",
      "metadata": {
        "id": "IT5XUNQte75S"
      },
      "source": [
        "<p><img alt=\"Ícone importando do portal FlatIcon\" height=\"45px\" src=\"https://www.flaticon.com/svg/static/icons/svg/2742/2742225.svg\" align=\"left\" hspace=\"10px\" vspace=\"0px\"></p>\n",
        "\n",
        "<h1><strong>Web Scraping | OLX E-commerce</strong></h1>\n",
        "\n",
        "&emsp; Projeto independente sem fins lucrativos apenas com intuito de aumentar e fixar conhecimentos em <b>web scraping</b>.\n",
        "\n",
        "<br />\n",
        "\n",
        "<i>Por Paulo Igor Moraes</i>"
      ]
    },
    {
      "cell_type": "code",
      "metadata": {
        "id": "RuGgYdkYekx4"
      },
      "source": [
        "from bs4 import BeautifulSoup\n",
        "from urllib.request import urlopen"
      ],
      "execution_count": null,
      "outputs": []
    },
    {
      "cell_type": "code",
      "metadata": {
        "id": "EaIPyUlrgtYc"
      },
      "source": [
        "url_based = 'https://am.olx.com.br/regiao-de-manaus/imoveis'"
      ],
      "execution_count": null,
      "outputs": []
    }
  ]
}