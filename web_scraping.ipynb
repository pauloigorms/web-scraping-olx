{
  "nbformat": 4,
  "nbformat_minor": 0,
  "metadata": {
    "colab": {
      "name": "web-scraping.ipynb",
      "private_outputs": true,
      "provenance": [],
      "collapsed_sections": [],
      "authorship_tag": "ABX9TyPfwKuJhIQMBLnNGM+je1vX",
      "include_colab_link": true
    },
    "kernelspec": {
      "name": "python3",
      "display_name": "Python 3"
    }
  },
  "cells": [
    {
      "cell_type": "markdown",
      "metadata": {
        "id": "view-in-github",
        "colab_type": "text"
      },
      "source": [
        "<a href=\"https://colab.research.google.com/github/pauloigorms/web-scraping-olx/blob/main/web_scraping.ipynb\" target=\"_parent\"><img src=\"https://colab.research.google.com/assets/colab-badge.svg\" alt=\"Open In Colab\"/></a>"
      ]
    },
    {
      "cell_type": "markdown",
      "metadata": {
        "id": "IT5XUNQte75S"
      },
      "source": [
        "<p><img alt=\"Ícone importando do portal FlatIcon\" height=\"45px\" src=\"https://www.flaticon.com/svg/static/icons/svg/2742/2742225.svg\" align=\"left\" hspace=\"10px\" vspace=\"0px\"></p>\n",
        "\n",
        "<h1><strong>Web Scraping | OLX E-commerce</strong></h1>\n",
        "\n",
        "&emsp; Projeto independente sem fins lucrativos apenas com intuito de acrescentar e fixar conhecimentos em <b>web scraping</b>.\n",
        "\n",
        "\n",
        "<br />\n",
        "\n",
        "<i>Por Paulo Igor Moraes</i>"
      ]
    },
    {
      "cell_type": "code",
      "metadata": {
        "id": "RuGgYdkYekx4"
      },
      "source": [
        "from bs4 import BeautifulSoup\n",
        "from urllib.request import Request, urlopen\n",
        "import pandas as pd"
      ],
      "execution_count": null,
      "outputs": []
    },
    {
      "cell_type": "code",
      "metadata": {
        "id": "EaIPyUlrgtYc"
      },
      "source": [
        "url_based = 'https://am.olx.com.br/regiao-de-manaus/manaus/imoveis/?o='"
      ],
      "execution_count": null,
      "outputs": []
    },
    {
      "cell_type": "code",
      "metadata": {
        "id": "EoSu5y38lFlq"
      },
      "source": [
        "result_full = []\n",
        "\n",
        "for page in range(1,3):\n",
        "  page_result = Request(url_based + str(page), headers={'User-Agent': 'Mozilla/5.0'})\n",
        "  page_read = urlopen(page_result).read()\n",
        "  page_parser = BeautifulSoup(page_read, 'html.parser')\n",
        "  page_lister = page_parser.find('div', {'class': 'sc-1fcmfeb-0'}).find('ul').find_all('li')\n",
        "  for item in page_lister:\n",
        "    href = item.find('a')\n",
        "    if (href):\n",
        "\n",
        "      item_page_result = Request(href.get('href'), headers={'User-Agent': 'Mozilla/5.0'})\n",
        "      item_page_read = urlopen(item_page_result).read()\n",
        "      item_page_parser = BeautifulSoup(item_page_read, 'html.parser')\n",
        "\n",
        "      result_full.append({\n",
        "        'id': href.get('data-lurker_list_id'),\n",
        "        'link': href.get('href'),\n",
        "        'title': href.find('h2').get_text(),\n",
        "        'price': href.find('div', {'class': 'fnmrjs-9'}).find('span').get_text(),\n",
        "        'image': href.find('img')['src'],\n",
        "        'image_alt': href.find('img')['alt'],\n",
        "        'localization': href.find('div', {'class': 'fnmrjs-5'}).find('span').get_text(),\n",
        "        'description': item_page_parser.find('div', {'class': 'sc-1sj3nln-0'}).find('span').get_text(),\n",
        "      })"
      ],
      "execution_count": null,
      "outputs": []
    },
    {
      "cell_type": "code",
      "metadata": {
        "id": "Pf2vnh0eLE2N"
      },
      "source": [
        "pd.json_normalize(result_full)"
      ],
      "execution_count": null,
      "outputs": []
    }
  ]
}